{
 "cells": [
  {
   "cell_type": "code",
   "execution_count": 2,
   "metadata": {},
   "outputs": [],
   "source": [
    "import pandas as pd\n",
    "df = pd.read_excel(r'INPUT_TEMPLATES\\Personnel_template.xlsx', header=[1], dtype= 'str')"
   ]
  },
  {
   "cell_type": "code",
   "execution_count": 4,
   "metadata": {},
   "outputs": [
    {
     "name": "stdout",
     "output_type": "stream",
     "text": [
      "{\"External Id\":{},\"External Id Alias Pool\":{},\"Username\":{},\"*Last Name\":{},\"*First Name\":{},\"Middle Name\":{},\"Name Full Formatted\":{},\"Title\":{},\"Suffix\":{},\"Position\":{},\"Begin Date+Time\":{},\"*End Date+Time\":{},\"Physician Ind\":{},\"SSN\":{},\"SSN Pool\":{},\"Birthdate\":{},\"Sex\":{},\"VIP\":{},\"Active Ind\":{},\"Primary Assigned Location\":{},\"Email\":{},\"*Prsnl Alias Type\":{},\"*Prsnl Alias\":{},\"*Prsnl Alias Pool\":{},\"Prsnl Alias Active Ind\":{},\"Prsnl_Alias_End_Dt\":{},\"*Org Name\":{},\"Org Confid Level\":{},\"Org_End_Dt\":{},\"*Address Type\":{},\"*Address Type Seq\":{},\"Address Street 1\":{},\"Address Street 2\":{},\"Address Street 3\":{},\"Address Street 4\":{},\"City\":{},\"County\":{},\"State or Prov\":{},\"Country\":{},\"Zip Code\":{},\"Contact\":{},\"Comment\":{},\"District Health UK\":{},\"Primary Care UK\":{},\"Address_Delete_Ind\":{},\"Org Address Reltn Ind\":{},\"Org Addr Name\":{},\"Org Addr Type\":{},\"Org Addr Sequence\":{},\"*Phone Type\":{},\"*Phone Type Seq\":{},\"Phone Number\":{},\"Phone Extension\":{},\"Phone Format\":{},\"Phone Description\":{},\"Phone Contact\":{},\"Phone Call Instruction\":{},\"Phone_Delete_Ind\":{},\"Org Phone Reln Ind\":{},\"Org Phone Name\":{},\"Org Phone Type\":{},\"Org Phone Seq\":{},\"*Location Type\":{},\"*Location Name\":{},\"Location_Delete_Ind\":{},\"*Org Group Type\":{},\"*Org Group Name\":{},\"Org_Group_Delete_Ind\":{},\"*Prsnl Group Type\":{},\"*Prsnl Group Name\":{},\"*Prsnl Group Class\":{},\"Prsnl_Group_Delete_Ind\":{},\"*Clinical Service Display\":{},\"Clinical Service Default\":{},\"Clinical Service Org Name\":{},\"Clin_Serv_Delete_Ind\":{}}\n"
     ]
    }
   ],
   "source": [
    "json_string = df.to_json()\n",
    "print(json_string)"
   ]
  },
  {
   "cell_type": "code",
   "execution_count": null,
   "metadata": {},
   "outputs": [],
   "source": []
  }
 ],
 "metadata": {
  "kernelspec": {
   "display_name": "base",
   "language": "python",
   "name": "python3"
  },
  "language_info": {
   "codemirror_mode": {
    "name": "ipython",
    "version": 3
   },
   "file_extension": ".py",
   "mimetype": "text/x-python",
   "name": "python",
   "nbconvert_exporter": "python",
   "pygments_lexer": "ipython3",
   "version": "3.9.12"
  },
  "orig_nbformat": 4,
  "vscode": {
   "interpreter": {
    "hash": "99ab24223154bc81de56fc605a85b0e4b0e8fba2ce28055bc07242989cabcf2f"
   }
  }
 },
 "nbformat": 4,
 "nbformat_minor": 2
}
